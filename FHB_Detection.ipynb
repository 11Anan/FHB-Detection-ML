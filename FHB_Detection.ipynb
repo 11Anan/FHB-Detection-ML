{
 "cells": [
  {
   "cell_type": "code",
   "execution_count": 1,
   "id": "15f0fedf-4a11-478e-a8c8-2a00c51af751",
   "metadata": {},
   "outputs": [],
   "source": [
    "from sklearn.model_selection import train_test_split\n",
    "import cv2\n",
    "import tensorflow as tf"
   ]
  },
  {
   "cell_type": "code",
   "execution_count": 2,
   "id": "dbf5996f-248f-4f67-aa52-236bcd692191",
   "metadata": {},
   "outputs": [],
   "source": [
    "import os\n",
    "os.environ['KMP_DUPLICATE_LIB_OK'] = 'True'"
   ]
  },
  {
   "cell_type": "code",
   "execution_count": 3,
   "id": "a3fd5a9e-dc84-4bb9-a1b6-b93a588b4cb4",
   "metadata": {},
   "outputs": [
    {
     "data": {
      "text/html": [
       "<div>\n",
       "<style scoped>\n",
       "    .dataframe tbody tr th:only-of-type {\n",
       "        vertical-align: middle;\n",
       "    }\n",
       "\n",
       "    .dataframe tbody tr th {\n",
       "        vertical-align: top;\n",
       "    }\n",
       "\n",
       "    .dataframe thead th {\n",
       "        text-align: right;\n",
       "    }\n",
       "</style>\n",
       "<table border=\"1\" class=\"dataframe\">\n",
       "  <thead>\n",
       "    <tr style=\"text-align: right;\">\n",
       "      <th></th>\n",
       "      <th>image_url</th>\n",
       "      <th>user_scores</th>\n",
       "    </tr>\n",
       "  </thead>\n",
       "  <tbody>\n",
       "    <tr>\n",
       "      <th>0</th>\n",
       "      <td>./PANA_210706/1343_1.JPG</td>\n",
       "      <td>8</td>\n",
       "    </tr>\n",
       "    <tr>\n",
       "      <th>1</th>\n",
       "      <td>./PANA_210706/1343_2.JPG</td>\n",
       "      <td>6</td>\n",
       "    </tr>\n",
       "    <tr>\n",
       "      <th>2</th>\n",
       "      <td>./PANA_210706/1343_3.JPG</td>\n",
       "      <td>5</td>\n",
       "    </tr>\n",
       "    <tr>\n",
       "      <th>3</th>\n",
       "      <td>./PANA_210706/1344_1.JPG</td>\n",
       "      <td>4</td>\n",
       "    </tr>\n",
       "    <tr>\n",
       "      <th>4</th>\n",
       "      <td>./PANA_210706/1344_2.JPG</td>\n",
       "      <td>4</td>\n",
       "    </tr>\n",
       "    <tr>\n",
       "      <th>...</th>\n",
       "      <td>...</td>\n",
       "      <td>...</td>\n",
       "    </tr>\n",
       "    <tr>\n",
       "      <th>1590</th>\n",
       "      <td>./NIKON_210706/1089_2.JPG</td>\n",
       "      <td>7</td>\n",
       "    </tr>\n",
       "    <tr>\n",
       "      <th>1591</th>\n",
       "      <td>./NIKON_210706/1089_3.JPG</td>\n",
       "      <td>6</td>\n",
       "    </tr>\n",
       "    <tr>\n",
       "      <th>1592</th>\n",
       "      <td>./NIKON_210706/1689_1.JPG</td>\n",
       "      <td>5</td>\n",
       "    </tr>\n",
       "    <tr>\n",
       "      <th>1593</th>\n",
       "      <td>./NIKON_210706/1689_2.JPG</td>\n",
       "      <td>5</td>\n",
       "    </tr>\n",
       "    <tr>\n",
       "      <th>1594</th>\n",
       "      <td>./NIKON_210706/1689_3.JPG</td>\n",
       "      <td>4</td>\n",
       "    </tr>\n",
       "  </tbody>\n",
       "</table>\n",
       "<p>1595 rows × 2 columns</p>\n",
       "</div>"
      ],
      "text/plain": [
       "                      image_url  user_scores\n",
       "0      ./PANA_210706/1343_1.JPG            8\n",
       "1      ./PANA_210706/1343_2.JPG            6\n",
       "2      ./PANA_210706/1343_3.JPG            5\n",
       "3      ./PANA_210706/1344_1.JPG            4\n",
       "4      ./PANA_210706/1344_2.JPG            4\n",
       "...                         ...          ...\n",
       "1590  ./NIKON_210706/1089_2.JPG            7\n",
       "1591  ./NIKON_210706/1089_3.JPG            6\n",
       "1592  ./NIKON_210706/1689_1.JPG            5\n",
       "1593  ./NIKON_210706/1689_2.JPG            5\n",
       "1594  ./NIKON_210706/1689_3.JPG            4\n",
       "\n",
       "[1595 rows x 2 columns]"
      ]
     },
     "execution_count": 3,
     "metadata": {},
     "output_type": "execute_result"
    }
   ],
   "source": [
    "import pandas as pd\n",
    "\n",
    "# Load the dataset\n",
    "annotations = \"2021/rater1_annotations.txt\"\n",
    "df_data = pd.read_csv(annotations, delimiter=\";\")\n",
    "\n",
    "df_data"
   ]
  },
  {
   "cell_type": "code",
   "execution_count": 4,
   "id": "0ff9446a-d5e5-49d7-b33e-00bcbcec78bf",
   "metadata": {},
   "outputs": [
    {
     "name": "stdout",
     "output_type": "stream",
     "text": [
      "                                image_url  user_scores\n",
      "0      2021/Images/PANA_210706/1343_1.JPG            1\n",
      "1      2021/Images/PANA_210706/1343_2.JPG            1\n",
      "2      2021/Images/PANA_210706/1343_3.JPG            1\n",
      "3      2021/Images/PANA_210706/1344_1.JPG            0\n",
      "4      2021/Images/PANA_210706/1344_2.JPG            0\n",
      "...                                   ...          ...\n",
      "1590  2021/Images/NIKON_210706/1089_2.JPG            1\n",
      "1591  2021/Images/NIKON_210706/1089_3.JPG            1\n",
      "1592  2021/Images/NIKON_210706/1689_1.JPG            1\n",
      "1593  2021/Images/NIKON_210706/1689_2.JPG            1\n",
      "1594  2021/Images/NIKON_210706/1689_3.JPG            0\n",
      "\n",
      "[1595 rows x 2 columns]\n"
     ]
    }
   ],
   "source": [
    "import cv2\n",
    "import numpy as np\n",
    "import pandas as pd\n",
    "from sklearn.model_selection import train_test_split\n",
    "from sklearn.preprocessing import LabelEncoder, OneHotEncoder\n",
    "\n",
    "\n",
    "# Adding address prefix to each image URL\n",
    "address_prefix = \"2021/Images\"\n",
    "\n",
    "# Modify the first column (remove first character and add prefix)\n",
    "df_data.iloc[:, 0] = df_data.iloc[:, 0].astype(str).str[1:]  # Remove first character\n",
    "df_data.iloc[:, 0] = address_prefix + df_data.iloc[:, 0]  # Add address prefix\n",
    "df_data.iloc[:, 1] = df_data.iloc[:, 1].apply(lambda x: 0 if x <= 4 else 1)\n",
    "\n",
    "# Display modified DataFrame\n",
    "print(df_data)\n",
    "\n",
    "\n",
    "\n"
   ]
  },
  {
   "cell_type": "code",
   "execution_count": 12,
   "id": "c60290c3-9ddc-4a01-804e-af4ef2d6ffb9",
   "metadata": {},
   "outputs": [],
   "source": [
    "# Set image size\n",
    "img_size = 224\n",
    "images = []\n",
    "labels = df_data.iloc[:, 1].values  # Assuming second column has labels/scores\n",
    "\n",
    "# Read and resize images\n",
    "for f in df_data.iloc[:, 0]:\n",
    "    im = cv2.imread(f)\n",
    "    if im is not None:  # Ensure the image is loaded correctly\n",
    "        im = cv2.resize(im, (img_size, img_size))\n",
    "        images.append(im)\n",
    "    else:\n",
    "        print(f\"Warning: Could not load image {f}\")\n",
    "\n",
    "# Convert to NumPy array\n",
    "images = np.array(images)\n"
   ]
  },
  {
   "cell_type": "code",
   "execution_count": 13,
   "id": "84a05712-0779-45d4-b2d0-f2be503252c9",
   "metadata": {},
   "outputs": [],
   "source": [
    "# Perform Label Encoding (Convert labels to numerical values)\n",
    "# label_encoder = LabelEncoder()\n",
    "# labels_encoded = label_encoder.fit_transform(labels)\n",
    "\n",
    "\n",
    "\n",
    "# Perform One-Hot Encoding\n",
    "labels_encoded = labels.reshape(-1, 1)  # Reshape for OneHotEncoder\n",
    "one_hot_encoder = OneHotEncoder(sparse_output=False)\n",
    "labels_one_hot = one_hot_encoder.fit_transform(labels_encoded)\n"
   ]
  },
  {
   "cell_type": "code",
   "execution_count": 14,
   "id": "2536d587-0293-467c-a305-764e5bfd3725",
   "metadata": {},
   "outputs": [
    {
     "name": "stdout",
     "output_type": "stream",
     "text": [
      "Train set: (1276, 224, 224, 3) (1276, 2)\n",
      "Test set: (319, 224, 224, 3) (319, 2)\n"
     ]
    }
   ],
   "source": [
    "# Train-Test-Eval Split (80-20)\n",
    "X_train, X_test, y_train, y_test = train_test_split(images, labels_one_hot, test_size=0.2, random_state=42)  # 80% Train\n",
    "\n",
    "\n",
    "# Print dataset shapes\n",
    "print(\"Train set:\", X_train.shape, y_train.shape)\n",
    "print(\"Test set:\", X_test.shape, y_test.shape)\n",
    "\n"
   ]
  },
  {
   "cell_type": "markdown",
   "id": "f169bc8f-f539-454e-980f-af43e8fcbcaa",
   "metadata": {},
   "source": [
    "## EfficientNet Implemenation ##"
   ]
  },
  {
   "cell_type": "code",
   "execution_count": 19,
   "id": "f016a44b-aa33-4e1a-9851-0d96352cca03",
   "metadata": {},
   "outputs": [],
   "source": [
    "from tensorflow.keras import layers\n",
    "from tensorflow.keras.applications import EfficientNetB0\n",
    "\n",
    "NUM_CLASSES = 2\n",
    "IMG_SIZE = 224\n",
    "size = (IMG_SIZE, IMG_SIZE)\n",
    "\n",
    "inputs = layers.Input(shape=(IMG_SIZE, IMG_SIZE, 3))\n",
    "\n",
    "outputs = EfficientNetB0(include_top=True, weights = None, classes = NUM_CLASSES)(inputs)"
   ]
  },
  {
   "cell_type": "code",
   "execution_count": 20,
   "id": "18fc2992-86ee-4695-a013-51f1c936cbae",
   "metadata": {},
   "outputs": [
    {
     "data": {
      "text/html": [
       "<pre style=\"white-space:pre;overflow-x:auto;line-height:normal;font-family:Menlo,'DejaVu Sans Mono',consolas,'Courier New',monospace\"><span style=\"font-weight: bold\">Model: \"functional\"</span>\n",
       "</pre>\n"
      ],
      "text/plain": [
       "\u001b[1mModel: \"functional\"\u001b[0m\n"
      ]
     },
     "metadata": {},
     "output_type": "display_data"
    },
    {
     "data": {
      "text/html": [
       "<pre style=\"white-space:pre;overflow-x:auto;line-height:normal;font-family:Menlo,'DejaVu Sans Mono',consolas,'Courier New',monospace\">┏━━━━━━━━━━━━━━━━━━━━━━━━━━━━━━━━━━━━━━┳━━━━━━━━━━━━━━━━━━━━━━━━━━━━━┳━━━━━━━━━━━━━━━━━┓\n",
       "┃<span style=\"font-weight: bold\"> Layer (type)                         </span>┃<span style=\"font-weight: bold\"> Output Shape                </span>┃<span style=\"font-weight: bold\">         Param # </span>┃\n",
       "┡━━━━━━━━━━━━━━━━━━━━━━━━━━━━━━━━━━━━━━╇━━━━━━━━━━━━━━━━━━━━━━━━━━━━━╇━━━━━━━━━━━━━━━━━┩\n",
       "│ input_layer (<span style=\"color: #0087ff; text-decoration-color: #0087ff\">InputLayer</span>)             │ (<span style=\"color: #00d7ff; text-decoration-color: #00d7ff\">None</span>, <span style=\"color: #00af00; text-decoration-color: #00af00\">224</span>, <span style=\"color: #00af00; text-decoration-color: #00af00\">224</span>, <span style=\"color: #00af00; text-decoration-color: #00af00\">3</span>)         │               <span style=\"color: #00af00; text-decoration-color: #00af00\">0</span> │\n",
       "├──────────────────────────────────────┼─────────────────────────────┼─────────────────┤\n",
       "│ efficientnetb0 (<span style=\"color: #0087ff; text-decoration-color: #0087ff\">Functional</span>)          │ (<span style=\"color: #00d7ff; text-decoration-color: #00d7ff\">None</span>, <span style=\"color: #00af00; text-decoration-color: #00af00\">2</span>)                   │       <span style=\"color: #00af00; text-decoration-color: #00af00\">4,052,133</span> │\n",
       "└──────────────────────────────────────┴─────────────────────────────┴─────────────────┘\n",
       "</pre>\n"
      ],
      "text/plain": [
       "┏━━━━━━━━━━━━━━━━━━━━━━━━━━━━━━━━━━━━━━┳━━━━━━━━━━━━━━━━━━━━━━━━━━━━━┳━━━━━━━━━━━━━━━━━┓\n",
       "┃\u001b[1m \u001b[0m\u001b[1mLayer (type)                        \u001b[0m\u001b[1m \u001b[0m┃\u001b[1m \u001b[0m\u001b[1mOutput Shape               \u001b[0m\u001b[1m \u001b[0m┃\u001b[1m \u001b[0m\u001b[1m        Param #\u001b[0m\u001b[1m \u001b[0m┃\n",
       "┡━━━━━━━━━━━━━━━━━━━━━━━━━━━━━━━━━━━━━━╇━━━━━━━━━━━━━━━━━━━━━━━━━━━━━╇━━━━━━━━━━━━━━━━━┩\n",
       "│ input_layer (\u001b[38;5;33mInputLayer\u001b[0m)             │ (\u001b[38;5;45mNone\u001b[0m, \u001b[38;5;34m224\u001b[0m, \u001b[38;5;34m224\u001b[0m, \u001b[38;5;34m3\u001b[0m)         │               \u001b[38;5;34m0\u001b[0m │\n",
       "├──────────────────────────────────────┼─────────────────────────────┼─────────────────┤\n",
       "│ efficientnetb0 (\u001b[38;5;33mFunctional\u001b[0m)          │ (\u001b[38;5;45mNone\u001b[0m, \u001b[38;5;34m2\u001b[0m)                   │       \u001b[38;5;34m4,052,133\u001b[0m │\n",
       "└──────────────────────────────────────┴─────────────────────────────┴─────────────────┘\n"
      ]
     },
     "metadata": {},
     "output_type": "display_data"
    },
    {
     "data": {
      "text/html": [
       "<pre style=\"white-space:pre;overflow-x:auto;line-height:normal;font-family:Menlo,'DejaVu Sans Mono',consolas,'Courier New',monospace\"><span style=\"font-weight: bold\"> Total params: </span><span style=\"color: #00af00; text-decoration-color: #00af00\">4,052,133</span> (15.46 MB)\n",
       "</pre>\n"
      ],
      "text/plain": [
       "\u001b[1m Total params: \u001b[0m\u001b[38;5;34m4,052,133\u001b[0m (15.46 MB)\n"
      ]
     },
     "metadata": {},
     "output_type": "display_data"
    },
    {
     "data": {
      "text/html": [
       "<pre style=\"white-space:pre;overflow-x:auto;line-height:normal;font-family:Menlo,'DejaVu Sans Mono',consolas,'Courier New',monospace\"><span style=\"font-weight: bold\"> Trainable params: </span><span style=\"color: #00af00; text-decoration-color: #00af00\">4,010,110</span> (15.30 MB)\n",
       "</pre>\n"
      ],
      "text/plain": [
       "\u001b[1m Trainable params: \u001b[0m\u001b[38;5;34m4,010,110\u001b[0m (15.30 MB)\n"
      ]
     },
     "metadata": {},
     "output_type": "display_data"
    },
    {
     "data": {
      "text/html": [
       "<pre style=\"white-space:pre;overflow-x:auto;line-height:normal;font-family:Menlo,'DejaVu Sans Mono',consolas,'Courier New',monospace\"><span style=\"font-weight: bold\"> Non-trainable params: </span><span style=\"color: #00af00; text-decoration-color: #00af00\">42,023</span> (164.16 KB)\n",
       "</pre>\n"
      ],
      "text/plain": [
       "\u001b[1m Non-trainable params: \u001b[0m\u001b[38;5;34m42,023\u001b[0m (164.16 KB)\n"
      ]
     },
     "metadata": {},
     "output_type": "display_data"
    },
    {
     "name": "stdout",
     "output_type": "stream",
     "text": [
      "Epoch 1/20\n",
      "40/40 - 165s - 4s/step - accuracy: 0.5658 - loss: 2.7772\n",
      "Epoch 2/20\n",
      "40/40 - 105s - 3s/step - accuracy: 0.5854 - loss: 1.7058\n",
      "Epoch 3/20\n",
      "40/40 - 102s - 3s/step - accuracy: 0.5580 - loss: 1.9757\n",
      "Epoch 4/20\n",
      "40/40 - 122s - 3s/step - accuracy: 0.6074 - loss: 0.9923\n",
      "Epoch 5/20\n",
      "40/40 - 107s - 3s/step - accuracy: 0.6215 - loss: 0.9922\n",
      "Epoch 6/20\n",
      "40/40 - 102s - 3s/step - accuracy: 0.6528 - loss: 1.0016\n",
      "Epoch 7/20\n",
      "40/40 - 101s - 3s/step - accuracy: 0.6654 - loss: 0.8747\n",
      "Epoch 8/20\n",
      "40/40 - 100s - 3s/step - accuracy: 0.7273 - loss: 0.7255\n",
      "Epoch 9/20\n",
      "40/40 - 100s - 2s/step - accuracy: 0.7837 - loss: 0.6797\n",
      "Epoch 10/20\n",
      "40/40 - 100s - 3s/step - accuracy: 0.7900 - loss: 0.6244\n",
      "Epoch 11/20\n",
      "40/40 - 99s - 2s/step - accuracy: 0.8723 - loss: 0.5659\n",
      "Epoch 12/20\n",
      "40/40 - 99s - 2s/step - accuracy: 0.8864 - loss: 0.4724\n",
      "Epoch 13/20\n",
      "40/40 - 99s - 2s/step - accuracy: 0.9114 - loss: 0.3902\n",
      "Epoch 14/20\n",
      "40/40 - 102s - 3s/step - accuracy: 0.9373 - loss: 0.2419\n",
      "Epoch 15/20\n",
      "40/40 - 100s - 2s/step - accuracy: 0.9397 - loss: 0.2104\n",
      "Epoch 16/20\n",
      "40/40 - 99s - 2s/step - accuracy: 0.9459 - loss: 0.2421\n",
      "Epoch 17/20\n",
      "40/40 - 99s - 2s/step - accuracy: 0.9365 - loss: 0.2505\n",
      "Epoch 18/20\n",
      "40/40 - 100s - 3s/step - accuracy: 0.8762 - loss: 0.3948\n",
      "Epoch 19/20\n",
      "40/40 - 102s - 3s/step - accuracy: 0.9201 - loss: 0.3392\n",
      "Epoch 20/20\n",
      "40/40 - 100s - 2s/step - accuracy: 0.7759 - loss: 0.6760\n"
     ]
    }
   ],
   "source": [
    "model = tf.keras.Model(inputs, outputs)\n",
    "\n",
    "model.compile(optimizer=\"adam\", loss=\"categorical_crossentropy\", metrics=[\"accuracy\"] )\n",
    "\n",
    "model.summary()\n",
    "\n",
    "hist = model.fit(X_train, y_train, epochs=20, verbose=2)"
   ]
  },
  {
   "cell_type": "code",
   "execution_count": 48,
   "id": "1d6de616-6dee-4aa5-982d-0c6a5960b775",
   "metadata": {},
   "outputs": [
    {
     "data": {
      "image/png": "[encoded data removed]",
      "text/plain": [
       "<Figure size 640x480 with 1 Axes>"
      ]
     },
     "metadata": {},
     "output_type": "display_data"
    }
   ],
   "source": [
    "import matplotlib.pyplot as plt\n",
    "\n",
    "def plot_hist(hist):\n",
    "    plt.plot(hist.history[\"accuracy\"])\n",
    "    plt.title(\"Model Accuracy\")\n",
    "    plt.ylabel(\"Accuracy\")\n",
    "    plt.xlabel(\"Epochs\")\n",
    "    plt.legend([\"train\", \"test\", \"eval\"], loc = \"upper left\")\n",
    "    plt.savefig(\"hist.png\", dpi=300, bbox_inches='tight')\n",
    "    plt.show()\n",
    "\n",
    "plot_hist(hist)"
   ]
  },
  {
   "cell_type": "code",
   "execution_count": 25,
   "id": "5c60dd76-4567-4299-8797-ce3406081b5b",
   "metadata": {},
   "outputs": [
    {
     "name": "stdout",
     "output_type": "stream",
     "text": [
      "\u001b[1m10/10\u001b[0m \u001b[32m━━━━━━━━━━━━━━━━━━━━\u001b[0m\u001b[37m\u001b[0m \u001b[1m11s\u001b[0m 474ms/step - accuracy: 0.6825 - loss: 0.8889\n",
      "Loss = 0.9153725504875183\n",
      "Test Accuracy = 0.6896551847457886\n"
     ]
    }
   ],
   "source": [
    "preds = model.evaluate(X_test, y_test)\n",
    "print(\"Loss = \" + str(preds[0]))\n",
    "print(\"Test Accuracy = \" + str(preds[1]))"
   ]
  },
  {
   "cell_type": "code",
   "execution_count": null,
   "id": "2fc1c36a-1261-4014-94e4-145987791c0a",
   "metadata": {},
   "outputs": [],
   "source": [
    "# import tensorflow as tf\n",
    "# print(\"Num GPUs Available: \", len(tf.config.list_physical_devices('GPU')))"
   ]
  },
  {
   "cell_type": "code",
   "execution_count": 34,
   "id": "03e36e66-2590-47b3-94a8-a6c24a474ff6",
   "metadata": {},
   "outputs": [
    {
     "name": "stdout",
     "output_type": "stream",
     "text": [
      "\u001b[1m10/10\u001b[0m \u001b[32m━━━━━━━━━━━━━━━━━━━━\u001b[0m\u001b[37m\u001b[0m \u001b[1m5s\u001b[0m 493ms/step\n"
     ]
    }
   ],
   "source": [
    "y_pred = model.predict(X_test)  # Predict probabilities\n",
    "y_pred_classes = np.argmax(y_pred, axis=1)  # Convert to class labels\n",
    "y_pred_classes.shape\n",
    "y_test_classes = np.argmax(y_test, axis=1)\n"
   ]
  },
  {
   "cell_type": "code",
   "execution_count": 38,
   "id": "76bfb8f3-bc27-4d19-8c8e-c892d846c2b7",
   "metadata": {},
   "outputs": [
    {
     "name": "stdout",
     "output_type": "stream",
     "text": [
      "Confusion Matrix:\n",
      " [[ 14  96]\n",
      " [  3 206]]\n",
      "Classification Report:\n",
      "               precision    recall  f1-score   support\n",
      "\n",
      "           0       0.82      0.13      0.22       110\n",
      "           1       0.68      0.99      0.81       209\n",
      "\n",
      "    accuracy                           0.69       319\n",
      "   macro avg       0.75      0.56      0.51       319\n",
      "weighted avg       0.73      0.69      0.60       319\n",
      "\n"
     ]
    }
   ],
   "source": [
    "from sklearn.metrics import confusion_matrix, classification_report\n",
    "\n",
    "cm = confusion_matrix(y_test_classes, y_pred_classes)\n",
    "print(\"Confusion Matrix:\\n\", cm)\n",
    "\n",
    "print(\"Classification Report:\\n\", classification_report(y_test_classes, y_pred_classes))\n"
   ]
  },
  {
   "cell_type": "code",
   "execution_count": 46,
   "id": "e4a5a5e0-5ec6-4c4a-b3ae-603b2135b9e2",
   "metadata": {},
   "outputs": [
    {
     "data": {
      "image/png": "[encoded data removed]",
      "text/plain": [
       "<Figure size 600x500 with 2 Axes>"
      ]
     },
     "metadata": {},
     "output_type": "display_data"
    },
    {
     "data": {
      "text/html": [
       "<a href='confusion_matrix.png' target='_blank'>confusion_matrix.png</a><br>"
      ],
      "text/plain": [
       "C:\\Users\\asus\\Data Science\\FHB_Project\\confusion_matrix.png"
      ]
     },
     "execution_count": 46,
     "metadata": {},
     "output_type": "execute_result"
    }
   ],
   "source": [
    "import matplotlib.pyplot as plt\n",
    "import seaborn as sns\n",
    "\n",
    "# Define class labels (modify if you have more classes)\n",
    "class_labels = [\"Class 0\", \"Class 1\"]\n",
    "\n",
    "# Create the confusion matrix plot\n",
    "plt.figure(figsize=(6,5))\n",
    "sns.heatmap(cm, annot=True, fmt=\"d\", cmap=\"Blues\", xticklabels=class_labels, yticklabels=class_labels)\n",
    "\n",
    "# Add labels and title\n",
    "plt.xlabel(\"Predicted Label\")\n",
    "plt.ylabel(\"True Label\")\n",
    "plt.title(\"Confusion Matrix\")\n",
    "\n",
    "# Save the plot as an image\n",
    "plt.savefig(\"confusion_matrix.png\", dpi=300, bbox_inches='tight')\n",
    "\n",
    "# Show the plot\n",
    "plt.show()\n",
    "\n",
    "# To download the image (works in Jupyter)\n",
    "from IPython.display import FileLink\n",
    "FileLink(r'confusion_matrix.png')\n"
   ]
  },
  {
   "cell_type": "code",
   "execution_count": 44,
   "id": "58b57994-fb27-4852-aceb-3d55cb595e6d",
   "metadata": {},
   "outputs": [
    {
     "data": {
      "image/png": "[encoded data removed]",
      "text/plain": [
       "<Figure size 640x480 with 1 Axes>"
      ]
     },
     "metadata": {},
     "output_type": "display_data"
    },
    {
     "data": {
      "text/plain": [
       "<Figure size 640x480 with 0 Axes>"
      ]
     },
     "metadata": {},
     "output_type": "display_data"
    }
   ],
   "source": [
    "plot_hist(hist)\n",
    "plt.savefig(\"accuracy_vs_epochs.png\", dpi=300, bbox_inches='tight')  # Save as PNG"
   ]
  },
  {
   "cell_type": "code",
   "execution_count": null,
   "id": "ee99790a-ddf1-4643-a647-508f7cc99f29",
   "metadata": {},
   "outputs": [],
   "source": []
  }
 ],
 "metadata": {
  "kernelspec": {
   "display_name": "Python 3 (ipykernel)",
   "language": "python",
   "name": "python3"
  },
  "language_info": {
   "codemirror_mode": {
    "name": "ipython",
    "version": 3
   },
   "file_extension": ".py",
   "mimetype": "text/x-python",
   "name": "python",
   "nbconvert_exporter": "python",
   "pygments_lexer": "ipython3",
   "version": "3.12.4"
  }
 },
 "nbformat": 4,
 "nbformat_minor": 5
}
